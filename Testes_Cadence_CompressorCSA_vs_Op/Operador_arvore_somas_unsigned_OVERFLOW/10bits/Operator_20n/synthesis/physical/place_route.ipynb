{
    "cells": [
        {
            "cell_type": "code",
            "execution_count": 1,
            "metadata": {},
            "outputs": [],
            "source": [
                "top = ('''ENTITY top IS\n",
                "    GENERIC (\n",
                "        BITS       : NATURAL := 20;\n",
                "        NUM_INPUTS : NATURAL := 19W\n",
                "    );\n",
                "    PORT (\n",
                "        s_mult : IN unsigned((BITS * (NUM_INPUTS)) - 1 DOWNTO 0);\n",
                "        bias   : IN unsigned(BITS - 1 DOWNTO 0); -- s_Win(0 + (BITS * (NUM_INPUTS)))\n",
                "        ----------------------------------------------\n",
                "        y      : OUT unsigned((BITS + 3) - 1 DOWNTO 0)\n",
                "    );\n",
                "END ENTITY;''')"
            ]
        },
        {
            "cell_type": "code",
            "execution_count": 2,
            "metadata": {},
            "outputs": [],
            "source": [
                "BITS = 20\n",
                "NUM_INPUTS = 19"
            ]
        },
        {
            "cell_type": "code",
            "execution_count": 3,
            "metadata": {},
            "outputs": [],
            "source": [
                "def gen_IO_str_Place_Route_tcl(IO_name: str,BIT_WIDTH:int ):\n",
                "    x = ''\n",
                "    for i in range(BIT_WIDTH-1,-1,-1):\n",
                "        x = x + \"{\" + IO_name + \"[\" + str(i) + \"]} \"\n",
                "    return x\n",
                "\n",
                "# Xi = gen_IO_str_Place_Route_tcl(IO_name = 'Xi', BIT_WIDTH = TOTAL_BITS * FIRST_LAYER_NEURONS)\n",
                "# Y = []\n",
                "# sequence0 = [-29, -23, 3, 13]\n",
                "# for item in sequence0:\n",
                "#     if item < 0:\n",
                "#         item_str = f'Y_{str(item).replace(\"-\",\"n\")}'\n",
                "#     else:\n",
                "#         item_str = f'Y_{str(item)}'\n",
                "\n",
                "#     Y.append(gen_IO_str_Place_Route_tcl(IO_name = item_str, BIT_WIDTH = 2*BITS ))\n",
                "\n",
                "\n",
                "\n",
                "Top = None\n",
                "# Top = \"{{clk} {rst} {update_weights}}\"\n",
                "bias = gen_IO_str_Place_Route_tcl(IO_name = 'bias', BIT_WIDTH = BITS )\n",
                "Top = \"{ {clk} \" +bias+\" }\"\n",
                "\n",
                "Left = None\n",
                "s_mult = gen_IO_str_Place_Route_tcl(IO_name = 's_mult', BIT_WIDTH = BITS*NUM_INPUTS )\n",
                "Left =  \"{ \"+ s_mult + \" }\"\n",
                "# Left = ' '.join(map(str, ([Y[:9]])))\n",
                "# Left = \"{\"+Left+\"}\"\n",
                "\n",
                "Bottom = None\n",
                "# Bottom = ' '.join(map(str, ([Y[10:]]))) \n",
                "# Bottom = \"{\"+Bottom+\"}\"\n",
                "\n",
                "Right = None\n",
                "# Right = ' '.join(map(str, (Y)))\n",
                "y = gen_IO_str_Place_Route_tcl(IO_name = 'y', BIT_WIDTH = int(BITS+5) )\n",
                "Right = \"{ \"+y+\" }\"\n",
                "\n",
                "# Right = ' '.join(map(str, ([c0_n0_Win, c0_n1_Win, c0_n2_Win, c3_n0_y,c3_n1_y]))) \n",
                "# Right = \"{\"+Right+\"}\"\n",
                "\n"
            ]
        },
        {
            "cell_type": "code",
            "execution_count": 4,
            "metadata": {},
            "outputs": [
                {
                    "name": "stdout",
                    "output_type": "stream",
                    "text": [
                        "{ {clk} {bias[19]} {bias[18]} {bias[17]} {bias[16]} {bias[15]} {bias[14]} {bias[13]} {bias[12]} {bias[11]} {bias[10]} {bias[9]} {bias[8]} {bias[7]} {bias[6]} {bias[5]} {bias[4]} {bias[3]} {bias[2]} {bias[1]} {bias[0]}  }\n"
                    ]
                }
            ],
            "source": [
                "print( Top)"
            ]
        },
        {
            "cell_type": "code",
            "execution_count": 5,
            "metadata": {},
            "outputs": [
                {
                    "name": "stdout",
                    "output_type": "stream",
                    "text": [
                        "None\n"
                    ]
                }
            ],
            "source": [
                "print( Bottom)"
            ]
        },
        {
            "cell_type": "code",
            "execution_count": 6,
            "metadata": {},
            "outputs": [
                {
                    "name": "stdout",
                    "output_type": "stream",
                    "text": [
                        "{ {s_mult[379]} {s_mult[378]} {s_mult[377]} {s_mult[376]} {s_mult[375]} {s_mult[374]} {s_mult[373]} {s_mult[372]} {s_mult[371]} {s_mult[370]} {s_mult[369]} {s_mult[368]} {s_mult[367]} {s_mult[366]} {s_mult[365]} {s_mult[364]} {s_mult[363]} {s_mult[362]} {s_mult[361]} {s_mult[360]} {s_mult[359]} {s_mult[358]} {s_mult[357]} {s_mult[356]} {s_mult[355]} {s_mult[354]} {s_mult[353]} {s_mult[352]} {s_mult[351]} {s_mult[350]} {s_mult[349]} {s_mult[348]} {s_mult[347]} {s_mult[346]} {s_mult[345]} {s_mult[344]} {s_mult[343]} {s_mult[342]} {s_mult[341]} {s_mult[340]} {s_mult[339]} {s_mult[338]} {s_mult[337]} {s_mult[336]} {s_mult[335]} {s_mult[334]} {s_mult[333]} {s_mult[332]} {s_mult[331]} {s_mult[330]} {s_mult[329]} {s_mult[328]} {s_mult[327]} {s_mult[326]} {s_mult[325]} {s_mult[324]} {s_mult[323]} {s_mult[322]} {s_mult[321]} {s_mult[320]} {s_mult[319]} {s_mult[318]} {s_mult[317]} {s_mult[316]} {s_mult[315]} {s_mult[314]} {s_mult[313]} {s_mult[312]} {s_mult[311]} {s_mult[310]} {s_mult[309]} {s_mult[308]} {s_mult[307]} {s_mult[306]} {s_mult[305]} {s_mult[304]} {s_mult[303]} {s_mult[302]} {s_mult[301]} {s_mult[300]} {s_mult[299]} {s_mult[298]} {s_mult[297]} {s_mult[296]} {s_mult[295]} {s_mult[294]} {s_mult[293]} {s_mult[292]} {s_mult[291]} {s_mult[290]} {s_mult[289]} {s_mult[288]} {s_mult[287]} {s_mult[286]} {s_mult[285]} {s_mult[284]} {s_mult[283]} {s_mult[282]} {s_mult[281]} {s_mult[280]} {s_mult[279]} {s_mult[278]} {s_mult[277]} {s_mult[276]} {s_mult[275]} {s_mult[274]} {s_mult[273]} {s_mult[272]} {s_mult[271]} {s_mult[270]} {s_mult[269]} {s_mult[268]} {s_mult[267]} {s_mult[266]} {s_mult[265]} {s_mult[264]} {s_mult[263]} {s_mult[262]} {s_mult[261]} {s_mult[260]} {s_mult[259]} {s_mult[258]} {s_mult[257]} {s_mult[256]} {s_mult[255]} {s_mult[254]} {s_mult[253]} {s_mult[252]} {s_mult[251]} {s_mult[250]} {s_mult[249]} {s_mult[248]} {s_mult[247]} {s_mult[246]} {s_mult[245]} {s_mult[244]} {s_mult[243]} {s_mult[242]} {s_mult[241]} {s_mult[240]} {s_mult[239]} {s_mult[238]} {s_mult[237]} {s_mult[236]} {s_mult[235]} {s_mult[234]} {s_mult[233]} {s_mult[232]} {s_mult[231]} {s_mult[230]} {s_mult[229]} {s_mult[228]} {s_mult[227]} {s_mult[226]} {s_mult[225]} {s_mult[224]} {s_mult[223]} {s_mult[222]} {s_mult[221]} {s_mult[220]} {s_mult[219]} {s_mult[218]} {s_mult[217]} {s_mult[216]} {s_mult[215]} {s_mult[214]} {s_mult[213]} {s_mult[212]} {s_mult[211]} {s_mult[210]} {s_mult[209]} {s_mult[208]} {s_mult[207]} {s_mult[206]} {s_mult[205]} {s_mult[204]} {s_mult[203]} {s_mult[202]} {s_mult[201]} {s_mult[200]} {s_mult[199]} {s_mult[198]} {s_mult[197]} {s_mult[196]} {s_mult[195]} {s_mult[194]} {s_mult[193]} {s_mult[192]} {s_mult[191]} {s_mult[190]} {s_mult[189]} {s_mult[188]} {s_mult[187]} {s_mult[186]} {s_mult[185]} {s_mult[184]} {s_mult[183]} {s_mult[182]} {s_mult[181]} {s_mult[180]} {s_mult[179]} {s_mult[178]} {s_mult[177]} {s_mult[176]} {s_mult[175]} {s_mult[174]} {s_mult[173]} {s_mult[172]} {s_mult[171]} {s_mult[170]} {s_mult[169]} {s_mult[168]} {s_mult[167]} {s_mult[166]} {s_mult[165]} {s_mult[164]} {s_mult[163]} {s_mult[162]} {s_mult[161]} {s_mult[160]} {s_mult[159]} {s_mult[158]} {s_mult[157]} {s_mult[156]} {s_mult[155]} {s_mult[154]} {s_mult[153]} {s_mult[152]} {s_mult[151]} {s_mult[150]} {s_mult[149]} {s_mult[148]} {s_mult[147]} {s_mult[146]} {s_mult[145]} {s_mult[144]} {s_mult[143]} {s_mult[142]} {s_mult[141]} {s_mult[140]} {s_mult[139]} {s_mult[138]} {s_mult[137]} {s_mult[136]} {s_mult[135]} {s_mult[134]} {s_mult[133]} {s_mult[132]} {s_mult[131]} {s_mult[130]} {s_mult[129]} {s_mult[128]} {s_mult[127]} {s_mult[126]} {s_mult[125]} {s_mult[124]} {s_mult[123]} {s_mult[122]} {s_mult[121]} {s_mult[120]} {s_mult[119]} {s_mult[118]} {s_mult[117]} {s_mult[116]} {s_mult[115]} {s_mult[114]} {s_mult[113]} {s_mult[112]} {s_mult[111]} {s_mult[110]} {s_mult[109]} {s_mult[108]} {s_mult[107]} {s_mult[106]} {s_mult[105]} {s_mult[104]} {s_mult[103]} {s_mult[102]} {s_mult[101]} {s_mult[100]} {s_mult[99]} {s_mult[98]} {s_mult[97]} {s_mult[96]} {s_mult[95]} {s_mult[94]} {s_mult[93]} {s_mult[92]} {s_mult[91]} {s_mult[90]} {s_mult[89]} {s_mult[88]} {s_mult[87]} {s_mult[86]} {s_mult[85]} {s_mult[84]} {s_mult[83]} {s_mult[82]} {s_mult[81]} {s_mult[80]} {s_mult[79]} {s_mult[78]} {s_mult[77]} {s_mult[76]} {s_mult[75]} {s_mult[74]} {s_mult[73]} {s_mult[72]} {s_mult[71]} {s_mult[70]} {s_mult[69]} {s_mult[68]} {s_mult[67]} {s_mult[66]} {s_mult[65]} {s_mult[64]} {s_mult[63]} {s_mult[62]} {s_mult[61]} {s_mult[60]} {s_mult[59]} {s_mult[58]} {s_mult[57]} {s_mult[56]} {s_mult[55]} {s_mult[54]} {s_mult[53]} {s_mult[52]} {s_mult[51]} {s_mult[50]} {s_mult[49]} {s_mult[48]} {s_mult[47]} {s_mult[46]} {s_mult[45]} {s_mult[44]} {s_mult[43]} {s_mult[42]} {s_mult[41]} {s_mult[40]} {s_mult[39]} {s_mult[38]} {s_mult[37]} {s_mult[36]} {s_mult[35]} {s_mult[34]} {s_mult[33]} {s_mult[32]} {s_mult[31]} {s_mult[30]} {s_mult[29]} {s_mult[28]} {s_mult[27]} {s_mult[26]} {s_mult[25]} {s_mult[24]} {s_mult[23]} {s_mult[22]} {s_mult[21]} {s_mult[20]} {s_mult[19]} {s_mult[18]} {s_mult[17]} {s_mult[16]} {s_mult[15]} {s_mult[14]} {s_mult[13]} {s_mult[12]} {s_mult[11]} {s_mult[10]} {s_mult[9]} {s_mult[8]} {s_mult[7]} {s_mult[6]} {s_mult[5]} {s_mult[4]} {s_mult[3]} {s_mult[2]} {s_mult[1]} {s_mult[0]}  }\n"
                    ]
                }
            ],
            "source": [
                "print( Left)\n"
            ]
        },
        {
            "cell_type": "code",
            "execution_count": 7,
            "metadata": {},
            "outputs": [
                {
                    "name": "stdout",
                    "output_type": "stream",
                    "text": [
                        "{ {y[24]} {y[23]} {y[22]} {y[21]} {y[20]} {y[19]} {y[18]} {y[17]} {y[16]} {y[15]} {y[14]} {y[13]} {y[12]} {y[11]} {y[10]} {y[9]} {y[8]} {y[7]} {y[6]} {y[5]} {y[4]} {y[3]} {y[2]} {y[1]} {y[0]}  }\n"
                    ]
                }
            ],
            "source": [
                "print( Right)\n"
            ]
        },
        {
            "cell_type": "code",
            "execution_count": 8,
            "metadata": {},
            "outputs": [],
            "source": [
                "if Top is None:\n",
                "    Top_assign = ' '\n",
                "else:\n",
                "    Top_assign = f\"editPin -side Top -pinWidth 0.1 -pinDepth 0.52 -layer 3 -spreadType center -spacing 1  -pin {Top}\"\n",
                "\n",
                "if Bottom is None:\n",
                "    Bottom_assign = ' '\n",
                "else:\n",
                "    Bottom_assign = f\"editPin -side Bottom -pinWidth 0.1 -pinDepth 0.52 -layer 3 -spreadType center -spacing 1  -pin {Bottom}\"\n",
                "if Left is None:    \n",
                "    Left_assign = ' '\n",
                "else:\n",
                "    Left_assign = f\"editPin -side Left -pinWidth 0.1 -pinDepth 0.52 -layer 3 -spreadType center -spacing 1  -pin {Left}\"\n",
                "if Right is None:\n",
                "    Right_assign = ' '\n",
                "else:\n",
                "    Right_assign = f\"editPin -side Right -pinWidth 0.1 -pinDepth 0.52 -layer 3 -spreadType center -spacing 1  -pin {Right}\""
            ]
        },
        {
            "cell_type": "code",
            "execution_count": 9,
            "metadata": {},
            "outputs": [
                {
                    "data": {
                        "text/plain": [
                            "'#############################################################\\n##Place pins in left and right margins\\neditPin -side Top -pinWidth 0.1 -pinDepth 0.52 -layer 3 -spreadType center -spacing 1  -pin { {clk} {bias[19]} {bias[18]} {bias[17]} {bias[16]} {bias[15]} {bias[14]} {bias[13]} {bias[12]} {bias[11]} {bias[10]} {bias[9]} {bias[8]} {bias[7]} {bias[6]} {bias[5]} {bias[4]} {bias[3]} {bias[2]} {bias[1]} {bias[0]}  }\\n \\neditPin -side Left -pinWidth 0.1 -pinDepth 0.52 -layer 3 -spreadType center -spacing 1  -pin { {s_mult[379]} {s_mult[378]} {s_mult[377]} {s_mult[376]} {s_mult[375]} {s_mult[374]} {s_mult[373]} {s_mult[372]} {s_mult[371]} {s_mult[370]} {s_mult[369]} {s_mult[368]} {s_mult[367]} {s_mult[366]} {s_mult[365]} {s_mult[364]} {s_mult[363]} {s_mult[362]} {s_mult[361]} {s_mult[360]} {s_mult[359]} {s_mult[358]} {s_mult[357]} {s_mult[356]} {s_mult[355]} {s_mult[354]} {s_mult[353]} {s_mult[352]} {s_mult[351]} {s_mult[350]} {s_mult[349]} {s_mult[348]} {s_mult[347]} {s_mult[346]} {s_mult[345]} {s_mult[344]} {s_mult[343]} {s_mult[342]} {s_mult[341]} {s_mult[340]} {s_mult[339]} {s_mult[338]} {s_mult[337]} {s_mult[336]} {s_mult[335]} {s_mult[334]} {s_mult[333]} {s_mult[332]} {s_mult[331]} {s_mult[330]} {s_mult[329]} {s_mult[328]} {s_mult[327]} {s_mult[326]} {s_mult[325]} {s_mult[324]} {s_mult[323]} {s_mult[322]} {s_mult[321]} {s_mult[320]} {s_mult[319]} {s_mult[318]} {s_mult[317]} {s_mult[316]} {s_mult[315]} {s_mult[314]} {s_mult[313]} {s_mult[312]} {s_mult[311]} {s_mult[310]} {s_mult[309]} {s_mult[308]} {s_mult[307]} {s_mult[306]} {s_mult[305]} {s_mult[304]} {s_mult[303]} {s_mult[302]} {s_mult[301]} {s_mult[300]} {s_mult[299]} {s_mult[298]} {s_mult[297]} {s_mult[296]} {s_mult[295]} {s_mult[294]} {s_mult[293]} {s_mult[292]} {s_mult[291]} {s_mult[290]} {s_mult[289]} {s_mult[288]} {s_mult[287]} {s_mult[286]} {s_mult[285]} {s_mult[284]} {s_mult[283]} {s_mult[282]} {s_mult[281]} {s_mult[280]} {s_mult[279]} {s_mult[278]} {s_mult[277]} {s_mult[276]} {s_mult[275]} {s_mult[274]} {s_mult[273]} {s_mult[272]} {s_mult[271]} {s_mult[270]} {s_mult[269]} {s_mult[268]} {s_mult[267]} {s_mult[266]} {s_mult[265]} {s_mult[264]} {s_mult[263]} {s_mult[262]} {s_mult[261]} {s_mult[260]} {s_mult[259]} {s_mult[258]} {s_mult[257]} {s_mult[256]} {s_mult[255]} {s_mult[254]} {s_mult[253]} {s_mult[252]} {s_mult[251]} {s_mult[250]} {s_mult[249]} {s_mult[248]} {s_mult[247]} {s_mult[246]} {s_mult[245]} {s_mult[244]} {s_mult[243]} {s_mult[242]} {s_mult[241]} {s_mult[240]} {s_mult[239]} {s_mult[238]} {s_mult[237]} {s_mult[236]} {s_mult[235]} {s_mult[234]} {s_mult[233]} {s_mult[232]} {s_mult[231]} {s_mult[230]} {s_mult[229]} {s_mult[228]} {s_mult[227]} {s_mult[226]} {s_mult[225]} {s_mult[224]} {s_mult[223]} {s_mult[222]} {s_mult[221]} {s_mult[220]} {s_mult[219]} {s_mult[218]} {s_mult[217]} {s_mult[216]} {s_mult[215]} {s_mult[214]} {s_mult[213]} {s_mult[212]} {s_mult[211]} {s_mult[210]} {s_mult[209]} {s_mult[208]} {s_mult[207]} {s_mult[206]} {s_mult[205]} {s_mult[204]} {s_mult[203]} {s_mult[202]} {s_mult[201]} {s_mult[200]} {s_mult[199]} {s_mult[198]} {s_mult[197]} {s_mult[196]} {s_mult[195]} {s_mult[194]} {s_mult[193]} {s_mult[192]} {s_mult[191]} {s_mult[190]} {s_mult[189]} {s_mult[188]} {s_mult[187]} {s_mult[186]} {s_mult[185]} {s_mult[184]} {s_mult[183]} {s_mult[182]} {s_mult[181]} {s_mult[180]} {s_mult[179]} {s_mult[178]} {s_mult[177]} {s_mult[176]} {s_mult[175]} {s_mult[174]} {s_mult[173]} {s_mult[172]} {s_mult[171]} {s_mult[170]} {s_mult[169]} {s_mult[168]} {s_mult[167]} {s_mult[166]} {s_mult[165]} {s_mult[164]} {s_mult[163]} {s_mult[162]} {s_mult[161]} {s_mult[160]} {s_mult[159]} {s_mult[158]} {s_mult[157]} {s_mult[156]} {s_mult[155]} {s_mult[154]} {s_mult[153]} {s_mult[152]} {s_mult[151]} {s_mult[150]} {s_mult[149]} {s_mult[148]} {s_mult[147]} {s_mult[146]} {s_mult[145]} {s_mult[144]} {s_mult[143]} {s_mult[142]} {s_mult[141]} {s_mult[140]} {s_mult[139]} {s_mult[138]} {s_mult[137]} {s_mult[136]} {s_mult[135]} {s_mult[134]} {s_mult[133]} {s_mult[132]} {s_mult[131]} {s_mult[130]} {s_mult[129]} {s_mult[128]} {s_mult[127]} {s_mult[126]} {s_mult[125]} {s_mult[124]} {s_mult[123]} {s_mult[122]} {s_mult[121]} {s_mult[120]} {s_mult[119]} {s_mult[118]} {s_mult[117]} {s_mult[116]} {s_mult[115]} {s_mult[114]} {s_mult[113]} {s_mult[112]} {s_mult[111]} {s_mult[110]} {s_mult[109]} {s_mult[108]} {s_mult[107]} {s_mult[106]} {s_mult[105]} {s_mult[104]} {s_mult[103]} {s_mult[102]} {s_mult[101]} {s_mult[100]} {s_mult[99]} {s_mult[98]} {s_mult[97]} {s_mult[96]} {s_mult[95]} {s_mult[94]} {s_mult[93]} {s_mult[92]} {s_mult[91]} {s_mult[90]} {s_mult[89]} {s_mult[88]} {s_mult[87]} {s_mult[86]} {s_mult[85]} {s_mult[84]} {s_mult[83]} {s_mult[82]} {s_mult[81]} {s_mult[80]} {s_mult[79]} {s_mult[78]} {s_mult[77]} {s_mult[76]} {s_mult[75]} {s_mult[74]} {s_mult[73]} {s_mult[72]} {s_mult[71]} {s_mult[70]} {s_mult[69]} {s_mult[68]} {s_mult[67]} {s_mult[66]} {s_mult[65]} {s_mult[64]} {s_mult[63]} {s_mult[62]} {s_mult[61]} {s_mult[60]} {s_mult[59]} {s_mult[58]} {s_mult[57]} {s_mult[56]} {s_mult[55]} {s_mult[54]} {s_mult[53]} {s_mult[52]} {s_mult[51]} {s_mult[50]} {s_mult[49]} {s_mult[48]} {s_mult[47]} {s_mult[46]} {s_mult[45]} {s_mult[44]} {s_mult[43]} {s_mult[42]} {s_mult[41]} {s_mult[40]} {s_mult[39]} {s_mult[38]} {s_mult[37]} {s_mult[36]} {s_mult[35]} {s_mult[34]} {s_mult[33]} {s_mult[32]} {s_mult[31]} {s_mult[30]} {s_mult[29]} {s_mult[28]} {s_mult[27]} {s_mult[26]} {s_mult[25]} {s_mult[24]} {s_mult[23]} {s_mult[22]} {s_mult[21]} {s_mult[20]} {s_mult[19]} {s_mult[18]} {s_mult[17]} {s_mult[16]} {s_mult[15]} {s_mult[14]} {s_mult[13]} {s_mult[12]} {s_mult[11]} {s_mult[10]} {s_mult[9]} {s_mult[8]} {s_mult[7]} {s_mult[6]} {s_mult[5]} {s_mult[4]} {s_mult[3]} {s_mult[2]} {s_mult[1]} {s_mult[0]}  }\\neditPin -side Right -pinWidth 0.1 -pinDepth 0.52 -layer 3 -spreadType center -spacing 1  -pin { {y[24]} {y[23]} {y[22]} {y[21]} {y[20]} {y[19]} {y[18]} {y[17]} {y[16]} {y[15]} {y[14]} {y[13]} {y[12]} {y[11]} {y[10]} {y[9]} {y[8]} {y[7]} {y[6]} {y[5]} {y[4]} {y[3]} {y[2]} {y[1]} {y[0]}  }\\n\\n## Add Substrate and NWELL contacts\\naddWellTap -cell NWSX -prefix XTAP -cellInterval 30 -checkerBoard\\n\\n##Place the design\\nsetPlaceMode -fp false\\nplaceDesign -prePlaceOpt\\nsetDrawView place\\n\\n##Initial route of the design\\ntrialRoute -maxRouteLayer 6\\n'"
                        ]
                    },
                    "execution_count": 9,
                    "metadata": {},
                    "output_type": "execute_result"
                }
            ],
            "source": [
                "txt = (f'''#############################################################\n",
                "##Place pins in left and right margins\n",
                "{Top_assign}\n",
                "{Bottom_assign}\n",
                "{Left_assign}\n",
                "{Right_assign}\n",
                "\n",
                "## Add Substrate and NWELL contacts\n",
                "addWellTap -cell NWSX -prefix XTAP -cellInterval 30 -checkerBoard\n",
                "\n",
                "##Place the design\n",
                "setPlaceMode -fp false\n",
                "placeDesign -prePlaceOpt\n",
                "setDrawView place\n",
                "\n",
                "##Initial route of the design\n",
                "trialRoute -maxRouteLayer 6\n",
                "'''\n",
                ")\n",
                "txt"
            ]
        },
        {
            "cell_type": "code",
            "execution_count": 10,
            "metadata": {},
            "outputs": [],
            "source": [
                "with open('place_route.txt', 'w') as f:\n",
                "    f.write(txt)"
            ]
        },
        {
            "cell_type": "code",
            "execution_count": 11,
            "metadata": {},
            "outputs": [],
            "source": [
                "with open('3.place_route.tcl', 'w') as f:\n",
                "    f.write(txt)"
            ]
        },
        {
            "cell_type": "code",
            "execution_count": 12,
            "metadata": {},
            "outputs": [],
            "source": [
                "# #############################################################\n",
                "# ##Place pins in left and right margins\n",
                "# editPin -side Top -pinWidth 0.1 -pinDepth 0.52 -layer 3 -spreadType center -spacing 1  -pin {{clk} {rst} {update_weights}}\n",
                "# editPin -side Left -pinWidth 0.1 -pinDepth 0.52 -layer 3 -spreadType center -spacing 1 -pin {{Xi[119]} {Xi[118]} {Xi[117]} {Xi[116]} {Xi[115]} {Xi[114]} {Xi[113]} {Xi[112]} {Xi[111]} {Xi[110]} {Xi[109]} {Xi[108]} {Xi[107]} {Xi[106]} {Xi[105]} {Xi[104]} {Xi[103]} {Xi[102]} {Xi[101]} {Xi[100]} {Xi[99]} {Xi[98]} {Xi[97]} {Xi[96]} {Xi[95]} {Xi[94]} {Xi[93]} {Xi[92]} {Xi[91]} {Xi[90]} {Xi[89]} {Xi[88]} {Xi[87]} {Xi[86]} {Xi[85]} {Xi[84]} {Xi[83]} {Xi[82]} {Xi[81]} {Xi[80]} {Xi[79]} {Xi[78]} {Xi[77]} {Xi[76]} {Xi[75]} {Xi[74]} {Xi[73]} {Xi[72]} {Xi[71]} {Xi[70]} {Xi[69]} {Xi[68]} {Xi[67]} {Xi[66]} {Xi[65]} {Xi[64]} {Xi[63]} {Xi[62]} {Xi[61]} {Xi[60]} {Xi[59]} {Xi[58]} {Xi[57]} {Xi[56]} {Xi[55]} {Xi[54]} {Xi[53]} {Xi[52]} {Xi[51]} {Xi[50]} {Xi[49]} {Xi[48]} {Xi[47]} {Xi[46]} {Xi[45]} {Xi[44]} {Xi[43]} {Xi[42]} {Xi[41]} {Xi[40]} {Xi[39]} {Xi[38]} {Xi[37]} {Xi[36]} {Xi[35]} {Xi[34]} {Xi[33]} {Xi[32]} {Xi[31]} {Xi[30]} {Xi[29]} {Xi[28]} {Xi[27]} {Xi[26]} {Xi[25]} {Xi[24]} {Xi[23]} {Xi[22]} {Xi[21]} {Xi[20]} {Xi[19]} {Xi[18]} {Xi[17]} {Xi[16]} {Xi[15]} {Xi[14]} {Xi[13]} {Xi[12]} {Xi[11]} {Xi[10]} {Xi[9]} {Xi[8]} {Xi[7]} {Xi[6]} {Xi[5]} {Xi[4]} {Xi[3]} {Xi[2]} {Xi[1]} {Xi[0]} }\n",
                "# editPin -side Right -pinWidth 0.1 -pinDepth 0.52 -layer 3 -spreadType center -spacing 1  -pin {{c0_n0_Win[7]} {c0_n0_Win[6]} {c0_n0_Win[5]} {c0_n0_Win[4]} {c0_n0_Win[3]} {c0_n0_Win[2]} {c0_n0_Win[1]} {c0_n0_Win[0]}  {c0_n1_Win[7]} {c0_n1_Win[6]} {c0_n1_Win[5]} {c0_n1_Win[4]} {c0_n1_Win[3]} {c0_n1_Win[2]} {c0_n1_Win[1]} {c0_n1_Win[0]}  {c0_n2_Win[7]} {c0_n2_Win[6]} {c0_n2_Win[5]} {c0_n2_Win[4]} {c0_n2_Win[3]} {c0_n2_Win[2]} {c0_n2_Win[1]} {c0_n2_Win[0]}  {c3_n0_y[7]} {c3_n0_y[6]} {c3_n0_y[5]} {c3_n0_y[4]} {c3_n0_y[3]} {c3_n0_y[2]} {c3_n0_y[1]} {c3_n0_y[0]}  {c3_n1_y[7]} {c3_n1_y[6]} {c3_n1_y[5]} {c3_n1_y[4]} {c3_n1_y[3]} {c3_n1_y[2]} {c3_n1_y[1]} {c3_n1_y[0]} }\n",
                "\n",
                "# ## Add Substrate and NWELL contacts\n",
                "# addWellTap -cell NWSX -prefix XTAP -cellInterval 30 -checkerBoard\n",
                "\n",
                "# ##Place the design\n",
                "# setPlaceMode -fp false\n",
                "# placeDesign -prePlaceOpt\n",
                "# setDrawView place\n",
                "\n",
                "# ##Initial route of the design\n",
                "# trialRoute -maxRouteLayer 6\n"
            ]
        }
    ],
    "metadata": {
        "kernelspec": {
            "display_name": "Python 3",
            "language": "python",
            "name": "python3"
        },
        "language_info": {
            "codemirror_mode": {
                "name": "ipython",
                "version": 3
            },
            "file_extension": ".py",
            "mimetype": "text/x-python",
            "name": "python",
            "nbconvert_exporter": "python",
            "pygments_lexer": "ipython3",
            "version": "3.9.5"
        },
        "orig_nbformat": 4,
        "vscode": {
            "interpreter": {
                "hash": "d1b75f63a51ab1e44c10e89cf3b718812d9c5e2447d39cb402b946ba7653bfcd"
            }
        }
    },
    "nbformat": 4,
    "nbformat_minor": 2
}
