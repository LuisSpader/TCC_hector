{
    "cells": [
        {
            "cell_type": "code",
            "execution_count": 1,
            "metadata": {},
            "outputs": [],
            "source": [
                "top = ('''ENTITY top IS\n",
                "    GENERIC (\n",
                "        BITS       : NATURAL := 16;\n",
                "        NUM_INPUTS : NATURAL := 7\n",
                "    );\n",
                "    PORT (\n",
                "        s_mult : IN unsigned((BITS * (NUM_INPUTS)) - 1 DOWNTO 0);\n",
                "        bias   : IN unsigned(BITS - 1 DOWNTO 0); -- s_Win(0 + (BITS * (NUM_INPUTS)))\n",
                "        ----------------------------------------------\n",
                "        y      : OUT unsigned((BITS + 3) - 1 DOWNTO 0)\n",
                "    );\n",
                "END ENTITY;''')"
            ]
        },
        {
            "cell_type": "code",
            "execution_count": 2,
            "metadata": {},
            "outputs": [],
            "source": [
                "BITS = 16\n",
                "NUM_INPUTS = 7"
            ]
        },
        {
            "cell_type": "code",
            "execution_count": 3,
            "metadata": {},
            "outputs": [],
            "source": [
                "def gen_IO_str_Place_Route_tcl(IO_name: str,BIT_WIDTH:int ):\n",
                "    x = ''\n",
                "    for i in range(BIT_WIDTH-1,-1,-1):\n",
                "        x = x + \"{\" + IO_name + \"[\" + str(i) + \"]} \"\n",
                "    return x\n",
                "\n",
                "# Xi = gen_IO_str_Place_Route_tcl(IO_name = 'Xi', BIT_WIDTH = TOTAL_BITS * FIRST_LAYER_NEURONS)\n",
                "# Y = []\n",
                "# sequence0 = [-29, -23, 3, 13]\n",
                "# for item in sequence0:\n",
                "#     if item < 0:\n",
                "#         item_str = f'Y_{str(item).replace(\"-\",\"n\")}'\n",
                "#     else:\n",
                "#         item_str = f'Y_{str(item)}'\n",
                "\n",
                "#     Y.append(gen_IO_str_Place_Route_tcl(IO_name = item_str, BIT_WIDTH = 2*BITS ))\n",
                "\n",
                "\n",
                "\n",
                "Top = None\n",
                "# Top = \"{{clk} {rst} {update_weights}}\"\n",
                "bias = gen_IO_str_Place_Route_tcl(IO_name = 'bias', BIT_WIDTH = BITS )\n",
                "Top = \"{ {clk} \" +bias+\" }\"\n",
                "\n",
                "Left = None\n",
                "s_mult = gen_IO_str_Place_Route_tcl(IO_name = 's_mult', BIT_WIDTH = BITS*NUM_INPUTS )\n",
                "Left =  \"{ \"+ s_mult + \" }\"\n",
                "# Left = ' '.join(map(str, ([Y[:9]])))\n",
                "# Left = \"{\"+Left+\"}\"\n",
                "\n",
                "Bottom = None\n",
                "# Bottom = ' '.join(map(str, ([Y[10:]]))) \n",
                "# Bottom = \"{\"+Bottom+\"}\"\n",
                "\n",
                "Right = None\n",
                "# Right = ' '.join(map(str, (Y)))\n",
                "y = gen_IO_str_Place_Route_tcl(IO_name = 'y', BIT_WIDTH = int(BITS+3) )\n",
                "Right = \"{ \"+y+\" }\"\n",
                "\n",
                "# Right = ' '.join(map(str, ([c0_n0_Win, c0_n1_Win, c0_n2_Win, c3_n0_y,c3_n1_y]))) \n",
                "# Right = \"{\"+Right+\"}\"\n",
                "\n"
            ]
        },
        {
            "cell_type": "code",
            "execution_count": 4,
            "metadata": {},
            "outputs": [
                {
                    "name": "stdout",
                    "output_type": "stream",
                    "text": [
                        "{ {clk} {bias[15]} {bias[14]} {bias[13]} {bias[12]} {bias[11]} {bias[10]} {bias[9]} {bias[8]} {bias[7]} {bias[6]} {bias[5]} {bias[4]} {bias[3]} {bias[2]} {bias[1]} {bias[0]}  }\n"
                    ]
                }
            ],
            "source": [
                "print( Top)"
            ]
        },
        {
            "cell_type": "code",
            "execution_count": 5,
            "metadata": {},
            "outputs": [
                {
                    "name": "stdout",
                    "output_type": "stream",
                    "text": [
                        "None\n"
                    ]
                }
            ],
            "source": [
                "print( Bottom)"
            ]
        },
        {
            "cell_type": "code",
            "execution_count": 6,
            "metadata": {},
            "outputs": [
                {
                    "name": "stdout",
                    "output_type": "stream",
                    "text": [
                        "{ {s_mult[111]} {s_mult[110]} {s_mult[109]} {s_mult[108]} {s_mult[107]} {s_mult[106]} {s_mult[105]} {s_mult[104]} {s_mult[103]} {s_mult[102]} {s_mult[101]} {s_mult[100]} {s_mult[99]} {s_mult[98]} {s_mult[97]} {s_mult[96]} {s_mult[95]} {s_mult[94]} {s_mult[93]} {s_mult[92]} {s_mult[91]} {s_mult[90]} {s_mult[89]} {s_mult[88]} {s_mult[87]} {s_mult[86]} {s_mult[85]} {s_mult[84]} {s_mult[83]} {s_mult[82]} {s_mult[81]} {s_mult[80]} {s_mult[79]} {s_mult[78]} {s_mult[77]} {s_mult[76]} {s_mult[75]} {s_mult[74]} {s_mult[73]} {s_mult[72]} {s_mult[71]} {s_mult[70]} {s_mult[69]} {s_mult[68]} {s_mult[67]} {s_mult[66]} {s_mult[65]} {s_mult[64]} {s_mult[63]} {s_mult[62]} {s_mult[61]} {s_mult[60]} {s_mult[59]} {s_mult[58]} {s_mult[57]} {s_mult[56]} {s_mult[55]} {s_mult[54]} {s_mult[53]} {s_mult[52]} {s_mult[51]} {s_mult[50]} {s_mult[49]} {s_mult[48]} {s_mult[47]} {s_mult[46]} {s_mult[45]} {s_mult[44]} {s_mult[43]} {s_mult[42]} {s_mult[41]} {s_mult[40]} {s_mult[39]} {s_mult[38]} {s_mult[37]} {s_mult[36]} {s_mult[35]} {s_mult[34]} {s_mult[33]} {s_mult[32]} {s_mult[31]} {s_mult[30]} {s_mult[29]} {s_mult[28]} {s_mult[27]} {s_mult[26]} {s_mult[25]} {s_mult[24]} {s_mult[23]} {s_mult[22]} {s_mult[21]} {s_mult[20]} {s_mult[19]} {s_mult[18]} {s_mult[17]} {s_mult[16]} {s_mult[15]} {s_mult[14]} {s_mult[13]} {s_mult[12]} {s_mult[11]} {s_mult[10]} {s_mult[9]} {s_mult[8]} {s_mult[7]} {s_mult[6]} {s_mult[5]} {s_mult[4]} {s_mult[3]} {s_mult[2]} {s_mult[1]} {s_mult[0]}  }\n"
                    ]
                }
            ],
            "source": [
                "print( Left)\n"
            ]
        },
        {
            "cell_type": "code",
            "execution_count": 7,
            "metadata": {},
            "outputs": [
                {
                    "name": "stdout",
                    "output_type": "stream",
                    "text": [
                        "{ {y[18]} {y[17]} {y[16]} {y[15]} {y[14]} {y[13]} {y[12]} {y[11]} {y[10]} {y[9]} {y[8]} {y[7]} {y[6]} {y[5]} {y[4]} {y[3]} {y[2]} {y[1]} {y[0]}  }\n"
                    ]
                }
            ],
            "source": [
                "print( Right)\n"
            ]
        },
        {
            "cell_type": "code",
            "execution_count": 8,
            "metadata": {},
            "outputs": [],
            "source": [
                "if Top is None:\n",
                "    Top_assign = ' '\n",
                "else:\n",
                "    Top_assign = f\"editPin -side Top -pinWidth 0.1 -pinDepth 0.52 -layer 3 -spreadType center -spacing 1  -pin {Top}\"\n",
                "\n",
                "if Bottom is None:\n",
                "    Bottom_assign = ' '\n",
                "else:\n",
                "    Bottom_assign = f\"editPin -side Bottom -pinWidth 0.1 -pinDepth 0.52 -layer 3 -spreadType center -spacing 1  -pin {Bottom}\"\n",
                "if Left is None:    \n",
                "    Left_assign = ' '\n",
                "else:\n",
                "    Left_assign = f\"editPin -side Left -pinWidth 0.1 -pinDepth 0.52 -layer 3 -spreadType center -spacing 1  -pin {Left}\"\n",
                "if Right is None:\n",
                "    Right_assign = ' '\n",
                "else:\n",
                "    Right_assign = f\"editPin -side Right -pinWidth 0.1 -pinDepth 0.52 -layer 3 -spreadType center -spacing 1  -pin {Right}\""
            ]
        },
        {
            "cell_type": "code",
            "execution_count": 9,
            "metadata": {},
            "outputs": [
                {
                    "data": {
                        "text/plain": [
                            "'#############################################################\\n##Place pins in left and right margins\\neditPin -side Top -pinWidth 0.1 -pinDepth 0.52 -layer 3 -spreadType center -spacing 1  -pin { {clk} {bias[15]} {bias[14]} {bias[13]} {bias[12]} {bias[11]} {bias[10]} {bias[9]} {bias[8]} {bias[7]} {bias[6]} {bias[5]} {bias[4]} {bias[3]} {bias[2]} {bias[1]} {bias[0]}  }\\n \\neditPin -side Left -pinWidth 0.1 -pinDepth 0.52 -layer 3 -spreadType center -spacing 1  -pin { {s_mult[111]} {s_mult[110]} {s_mult[109]} {s_mult[108]} {s_mult[107]} {s_mult[106]} {s_mult[105]} {s_mult[104]} {s_mult[103]} {s_mult[102]} {s_mult[101]} {s_mult[100]} {s_mult[99]} {s_mult[98]} {s_mult[97]} {s_mult[96]} {s_mult[95]} {s_mult[94]} {s_mult[93]} {s_mult[92]} {s_mult[91]} {s_mult[90]} {s_mult[89]} {s_mult[88]} {s_mult[87]} {s_mult[86]} {s_mult[85]} {s_mult[84]} {s_mult[83]} {s_mult[82]} {s_mult[81]} {s_mult[80]} {s_mult[79]} {s_mult[78]} {s_mult[77]} {s_mult[76]} {s_mult[75]} {s_mult[74]} {s_mult[73]} {s_mult[72]} {s_mult[71]} {s_mult[70]} {s_mult[69]} {s_mult[68]} {s_mult[67]} {s_mult[66]} {s_mult[65]} {s_mult[64]} {s_mult[63]} {s_mult[62]} {s_mult[61]} {s_mult[60]} {s_mult[59]} {s_mult[58]} {s_mult[57]} {s_mult[56]} {s_mult[55]} {s_mult[54]} {s_mult[53]} {s_mult[52]} {s_mult[51]} {s_mult[50]} {s_mult[49]} {s_mult[48]} {s_mult[47]} {s_mult[46]} {s_mult[45]} {s_mult[44]} {s_mult[43]} {s_mult[42]} {s_mult[41]} {s_mult[40]} {s_mult[39]} {s_mult[38]} {s_mult[37]} {s_mult[36]} {s_mult[35]} {s_mult[34]} {s_mult[33]} {s_mult[32]} {s_mult[31]} {s_mult[30]} {s_mult[29]} {s_mult[28]} {s_mult[27]} {s_mult[26]} {s_mult[25]} {s_mult[24]} {s_mult[23]} {s_mult[22]} {s_mult[21]} {s_mult[20]} {s_mult[19]} {s_mult[18]} {s_mult[17]} {s_mult[16]} {s_mult[15]} {s_mult[14]} {s_mult[13]} {s_mult[12]} {s_mult[11]} {s_mult[10]} {s_mult[9]} {s_mult[8]} {s_mult[7]} {s_mult[6]} {s_mult[5]} {s_mult[4]} {s_mult[3]} {s_mult[2]} {s_mult[1]} {s_mult[0]}  }\\neditPin -side Right -pinWidth 0.1 -pinDepth 0.52 -layer 3 -spreadType center -spacing 1  -pin { {y[18]} {y[17]} {y[16]} {y[15]} {y[14]} {y[13]} {y[12]} {y[11]} {y[10]} {y[9]} {y[8]} {y[7]} {y[6]} {y[5]} {y[4]} {y[3]} {y[2]} {y[1]} {y[0]}  }\\n\\n## Add Substrate and NWELL contacts\\naddWellTap -cell NWSX -prefix XTAP -cellInterval 30 -checkerBoard\\n\\n##Place the design\\nsetPlaceMode -fp false\\nplaceDesign -prePlaceOpt\\nsetDrawView place\\n\\n##Initial route of the design\\ntrialRoute -maxRouteLayer 6\\n'"
                        ]
                    },
                    "execution_count": 9,
                    "metadata": {},
                    "output_type": "execute_result"
                }
            ],
            "source": [
                "txt = (f'''#############################################################\n",
                "##Place pins in left and right margins\n",
                "{Top_assign}\n",
                "{Bottom_assign}\n",
                "{Left_assign}\n",
                "{Right_assign}\n",
                "\n",
                "## Add Substrate and NWELL contacts\n",
                "addWellTap -cell NWSX -prefix XTAP -cellInterval 30 -checkerBoard\n",
                "\n",
                "##Place the design\n",
                "setPlaceMode -fp false\n",
                "placeDesign -prePlaceOpt\n",
                "setDrawView place\n",
                "\n",
                "##Initial route of the design\n",
                "trialRoute -maxRouteLayer 6\n",
                "'''\n",
                ")\n",
                "txt"
            ]
        },
        {
            "cell_type": "code",
            "execution_count": 10,
            "metadata": {},
            "outputs": [],
            "source": [
                "with open('place_route.txt', 'w') as f:\n",
                "    f.write(txt)"
            ]
        },
        {
            "cell_type": "code",
            "execution_count": 11,
            "metadata": {},
            "outputs": [],
            "source": [
                "with open('3.place_route.tcl', 'w') as f:\n",
                "    f.write(txt)"
            ]
        },
        {
            "cell_type": "code",
            "execution_count": 12,
            "metadata": {},
            "outputs": [],
            "source": [
                "# #############################################################\n",
                "# ##Place pins in left and right margins\n",
                "# editPin -side Top -pinWidth 0.1 -pinDepth 0.52 -layer 3 -spreadType center -spacing 1  -pin {{clk} {rst} {update_weights}}\n",
                "# editPin -side Left -pinWidth 0.1 -pinDepth 0.52 -layer 3 -spreadType center -spacing 1 -pin {{Xi[119]} {Xi[118]} {Xi[117]} {Xi[116]} {Xi[115]} {Xi[114]} {Xi[113]} {Xi[112]} {Xi[111]} {Xi[110]} {Xi[109]} {Xi[108]} {Xi[107]} {Xi[106]} {Xi[105]} {Xi[104]} {Xi[103]} {Xi[102]} {Xi[101]} {Xi[100]} {Xi[99]} {Xi[98]} {Xi[97]} {Xi[96]} {Xi[95]} {Xi[94]} {Xi[93]} {Xi[92]} {Xi[91]} {Xi[90]} {Xi[89]} {Xi[88]} {Xi[87]} {Xi[86]} {Xi[85]} {Xi[84]} {Xi[83]} {Xi[82]} {Xi[81]} {Xi[80]} {Xi[79]} {Xi[78]} {Xi[77]} {Xi[76]} {Xi[75]} {Xi[74]} {Xi[73]} {Xi[72]} {Xi[71]} {Xi[70]} {Xi[69]} {Xi[68]} {Xi[67]} {Xi[66]} {Xi[65]} {Xi[64]} {Xi[63]} {Xi[62]} {Xi[61]} {Xi[60]} {Xi[59]} {Xi[58]} {Xi[57]} {Xi[56]} {Xi[55]} {Xi[54]} {Xi[53]} {Xi[52]} {Xi[51]} {Xi[50]} {Xi[49]} {Xi[48]} {Xi[47]} {Xi[46]} {Xi[45]} {Xi[44]} {Xi[43]} {Xi[42]} {Xi[41]} {Xi[40]} {Xi[39]} {Xi[38]} {Xi[37]} {Xi[36]} {Xi[35]} {Xi[34]} {Xi[33]} {Xi[32]} {Xi[31]} {Xi[30]} {Xi[29]} {Xi[28]} {Xi[27]} {Xi[26]} {Xi[25]} {Xi[24]} {Xi[23]} {Xi[22]} {Xi[21]} {Xi[20]} {Xi[19]} {Xi[18]} {Xi[17]} {Xi[16]} {Xi[15]} {Xi[14]} {Xi[13]} {Xi[12]} {Xi[11]} {Xi[10]} {Xi[9]} {Xi[8]} {Xi[7]} {Xi[6]} {Xi[5]} {Xi[4]} {Xi[3]} {Xi[2]} {Xi[1]} {Xi[0]} }\n",
                "# editPin -side Right -pinWidth 0.1 -pinDepth 0.52 -layer 3 -spreadType center -spacing 1  -pin {{c0_n0_Win[7]} {c0_n0_Win[6]} {c0_n0_Win[5]} {c0_n0_Win[4]} {c0_n0_Win[3]} {c0_n0_Win[2]} {c0_n0_Win[1]} {c0_n0_Win[0]}  {c0_n1_Win[7]} {c0_n1_Win[6]} {c0_n1_Win[5]} {c0_n1_Win[4]} {c0_n1_Win[3]} {c0_n1_Win[2]} {c0_n1_Win[1]} {c0_n1_Win[0]}  {c0_n2_Win[7]} {c0_n2_Win[6]} {c0_n2_Win[5]} {c0_n2_Win[4]} {c0_n2_Win[3]} {c0_n2_Win[2]} {c0_n2_Win[1]} {c0_n2_Win[0]}  {c3_n0_y[7]} {c3_n0_y[6]} {c3_n0_y[5]} {c3_n0_y[4]} {c3_n0_y[3]} {c3_n0_y[2]} {c3_n0_y[1]} {c3_n0_y[0]}  {c3_n1_y[7]} {c3_n1_y[6]} {c3_n1_y[5]} {c3_n1_y[4]} {c3_n1_y[3]} {c3_n1_y[2]} {c3_n1_y[1]} {c3_n1_y[0]} }\n",
                "\n",
                "# ## Add Substrate and NWELL contacts\n",
                "# addWellTap -cell NWSX -prefix XTAP -cellInterval 30 -checkerBoard\n",
                "\n",
                "# ##Place the design\n",
                "# setPlaceMode -fp false\n",
                "# placeDesign -prePlaceOpt\n",
                "# setDrawView place\n",
                "\n",
                "# ##Initial route of the design\n",
                "# trialRoute -maxRouteLayer 6\n"
            ]
        }
    ],
    "metadata": {
        "kernelspec": {
            "display_name": "Python 3",
            "language": "python",
            "name": "python3"
        },
        "language_info": {
            "codemirror_mode": {
                "name": "ipython",
                "version": 3
            },
            "file_extension": ".py",
            "mimetype": "text/x-python",
            "name": "python",
            "nbconvert_exporter": "python",
            "pygments_lexer": "ipython3",
            "version": "3.9.5"
        },
        "orig_nbformat": 4,
        "vscode": {
            "interpreter": {
                "hash": "d1b75f63a51ab1e44c10e89cf3b718812d9c5e2447d39cb402b946ba7653bfcd"
            }
        }
    },
    "nbformat": 4,
    "nbformat_minor": 2
}
