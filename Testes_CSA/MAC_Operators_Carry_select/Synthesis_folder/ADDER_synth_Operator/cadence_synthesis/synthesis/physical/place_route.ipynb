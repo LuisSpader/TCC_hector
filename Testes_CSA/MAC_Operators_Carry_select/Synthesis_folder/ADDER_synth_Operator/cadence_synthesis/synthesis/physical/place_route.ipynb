{
 "cells": [
  {
   "cell_type": "code",
   "execution_count": 7,
   "metadata": {},
   "outputs": [],
   "source": [
    "BITS = 8\n",
    "NUM_INPUTS = 5\n",
    "TOTAL_BITS = BITS * NUM_INPUTS\n",
    "FIRST_LAYER_NEURONS = 3"
   ]
  },
  {
   "cell_type": "code",
   "execution_count": 3,
   "metadata": {},
   "outputs": [],
   "source": [
    "top = ('''ENTITY top IS\n",
    "  GENERIC (\n",
    "    BITS       : NATURAL := BITS;\n",
    "    NUM_INPUTS : NATURAL := 10;\n",
    "    TOTAL_BITS : NATURAL := 80\n",
    "  );\n",
    "  PORT (\n",
    "    clk, rst, update_weights            : IN STD_LOGIC;\n",
    "    IO_in                               : IN signed(TOTAL_BITS - 1 DOWNTO 0);\n",
    "    c0_n0_W_in, c0_n1_W_in, c0_n2_W_in, c0_n3_W_in, c0_n4_W_in, c0_n5_W_in, c0_n6_W_in, c0_n7_W_in, c0_n8_W_in, c0_n9_W_in  : IN signed(BITS - 1 DOWNTO 0);\n",
    "    ----------------------------------------------\n",
    "    c1_n0_IO_out, c1_n1_IO_out, c1_n2_IO_out, c1_n3_IO_out, c1_n4_IO_out, c1_n5_IO_out, c1_n6_IO_out, c1_n7_IO_out, c1_n8_IO_out, c1_n9_IO_out : OUT signed(BITS - 1 DOWNTO 0)\n",
    "  );\n",
    "END ENTITY;''')"
   ]
  },
  {
   "cell_type": "code",
   "execution_count": 15,
   "metadata": {},
   "outputs": [],
   "source": [
    "def gen_IO_str_Place_Route_tcl(IO_name: str,BIT_WIDTH:int ):\n",
    "    x = ''\n",
    "    for i in range(BIT_WIDTH-1,-1,-1):\n",
    "        x = x + \"{\" + IO_name + \"[\" + str(i) + \"]} \"\n",
    "    return x\n",
    "\n",
    "Xi = gen_IO_str_Place_Route_tcl(IO_name = 'Xi', BIT_WIDTH = TOTAL_BITS * FIRST_LAYER_NEURONS)\n",
    "c0_n0_Win = gen_IO_str_Place_Route_tcl(IO_name = 'c0_n0_Win', BIT_WIDTH = BITS )\n",
    "c0_n1_Win= gen_IO_str_Place_Route_tcl(IO_name = 'c0_n1_Win', BIT_WIDTH = BITS )\n",
    "c0_n2_Win = gen_IO_str_Place_Route_tcl(IO_name = 'c0_n2_Win', BIT_WIDTH = BITS )\n",
    "\n",
    "c3_n0_y = gen_IO_str_Place_Route_tcl(IO_name = 'c3_n0_y', BIT_WIDTH = BITS )\n",
    "c3_n1_y = gen_IO_str_Place_Route_tcl(IO_name = 'c3_n1_y', BIT_WIDTH = BITS )\n",
    "\n",
    "Top = \"{{clk} {rst} {update_weights}}\"\n",
    "Left = ' '.join(map(str, ([Xi]))) #text_list can be an splitted text or a list of texts\n",
    "Left = \"{\"+Left+\"}\"\n",
    "\n",
    "Right = ' '.join(map(str, ([c0_n0_Win, c0_n1_Win, c0_n2_Win, c3_n0_y,c3_n1_y]))) #text_list can be an splitted text or a list of texts\n",
    "Right = \"{\"+Right+\"}\"\n",
    "\n"
   ]
  },
  {
   "cell_type": "code",
   "execution_count": 18,
   "metadata": {},
   "outputs": [
    {
     "data": {
      "text/plain": [
       "'#############################################################\\n##Place pins in left and right margins\\neditPin -side Top -pinWidth 0.1 -pinDepth 0.52 -layer 3 -spreadType center -spacing 1  -pin {{clk} {rst} {update_weights}}\\neditPin -side Left -pinWidth 0.1 -pinDepth 0.52 -layer 3 -spreadType center -spacing 1 -pin {{Xi[119]} {Xi[118]} {Xi[117]} {Xi[116]} {Xi[115]} {Xi[114]} {Xi[113]} {Xi[112]} {Xi[111]} {Xi[110]} {Xi[109]} {Xi[108]} {Xi[107]} {Xi[106]} {Xi[105]} {Xi[104]} {Xi[103]} {Xi[102]} {Xi[101]} {Xi[100]} {Xi[99]} {Xi[98]} {Xi[97]} {Xi[96]} {Xi[95]} {Xi[94]} {Xi[93]} {Xi[92]} {Xi[91]} {Xi[90]} {Xi[89]} {Xi[88]} {Xi[87]} {Xi[86]} {Xi[85]} {Xi[84]} {Xi[83]} {Xi[82]} {Xi[81]} {Xi[80]} {Xi[79]} {Xi[78]} {Xi[77]} {Xi[76]} {Xi[75]} {Xi[74]} {Xi[73]} {Xi[72]} {Xi[71]} {Xi[70]} {Xi[69]} {Xi[68]} {Xi[67]} {Xi[66]} {Xi[65]} {Xi[64]} {Xi[63]} {Xi[62]} {Xi[61]} {Xi[60]} {Xi[59]} {Xi[58]} {Xi[57]} {Xi[56]} {Xi[55]} {Xi[54]} {Xi[53]} {Xi[52]} {Xi[51]} {Xi[50]} {Xi[49]} {Xi[48]} {Xi[47]} {Xi[46]} {Xi[45]} {Xi[44]} {Xi[43]} {Xi[42]} {Xi[41]} {Xi[40]} {Xi[39]} {Xi[38]} {Xi[37]} {Xi[36]} {Xi[35]} {Xi[34]} {Xi[33]} {Xi[32]} {Xi[31]} {Xi[30]} {Xi[29]} {Xi[28]} {Xi[27]} {Xi[26]} {Xi[25]} {Xi[24]} {Xi[23]} {Xi[22]} {Xi[21]} {Xi[20]} {Xi[19]} {Xi[18]} {Xi[17]} {Xi[16]} {Xi[15]} {Xi[14]} {Xi[13]} {Xi[12]} {Xi[11]} {Xi[10]} {Xi[9]} {Xi[8]} {Xi[7]} {Xi[6]} {Xi[5]} {Xi[4]} {Xi[3]} {Xi[2]} {Xi[1]} {Xi[0]} }\\neditPin -side Right -pinWidth 0.1 -pinDepth 0.52 -layer 3 -spreadType center -spacing 1  -pin {{c0_n0_Win[7]} {c0_n0_Win[6]} {c0_n0_Win[5]} {c0_n0_Win[4]} {c0_n0_Win[3]} {c0_n0_Win[2]} {c0_n0_Win[1]} {c0_n0_Win[0]}  {c0_n1_Win[7]} {c0_n1_Win[6]} {c0_n1_Win[5]} {c0_n1_Win[4]} {c0_n1_Win[3]} {c0_n1_Win[2]} {c0_n1_Win[1]} {c0_n1_Win[0]}  {c0_n2_Win[7]} {c0_n2_Win[6]} {c0_n2_Win[5]} {c0_n2_Win[4]} {c0_n2_Win[3]} {c0_n2_Win[2]} {c0_n2_Win[1]} {c0_n2_Win[0]}  {c3_n0_y[7]} {c3_n0_y[6]} {c3_n0_y[5]} {c3_n0_y[4]} {c3_n0_y[3]} {c3_n0_y[2]} {c3_n0_y[1]} {c3_n0_y[0]}  {c3_n1_y[7]} {c3_n1_y[6]} {c3_n1_y[5]} {c3_n1_y[4]} {c3_n1_y[3]} {c3_n1_y[2]} {c3_n1_y[1]} {c3_n1_y[0]} }\\n\\n## Add Substrate and NWELL contacts\\naddWellTap -cell NWSX -prefix XTAP -cellInterval 30 -checkerBoard\\n\\n##Place the design\\nsetPlaceMode -fp false\\nplaceDesign -prePlaceOpt\\nsetDrawView place\\n\\n##Initial route of the design\\ntrialRoute -maxRouteLayer 6\\n'"
      ]
     },
     "execution_count": 18,
     "metadata": {},
     "output_type": "execute_result"
    }
   ],
   "source": [
    "txt = (f'''#############################################################\n",
    "##Place pins in left and right margins\n",
    "editPin -side Top -pinWidth 0.1 -pinDepth 0.52 -layer 3 -spreadType center -spacing 1  -pin {Top}\n",
    "editPin -side Left -pinWidth 0.1 -pinDepth 0.52 -layer 3 -spreadType center -spacing 1 -pin { Left }\n",
    "editPin -side Right -pinWidth 0.1 -pinDepth 0.52 -layer 3 -spreadType center -spacing 1  -pin {Right}\n",
    "\n",
    "## Add Substrate and NWELL contacts\n",
    "addWellTap -cell NWSX -prefix XTAP -cellInterval 30 -checkerBoard\n",
    "\n",
    "##Place the design\n",
    "setPlaceMode -fp false\n",
    "placeDesign -prePlaceOpt\n",
    "setDrawView place\n",
    "\n",
    "##Initial route of the design\n",
    "trialRoute -maxRouteLayer 6\n",
    "'''\n",
    ")\n",
    "txt"
   ]
  },
  {
   "cell_type": "code",
   "execution_count": 19,
   "metadata": {},
   "outputs": [],
   "source": [
    "with open('3.place_route.tcl', 'w') as f:\n",
    "    f.write(txt)"
   ]
  },
  {
   "cell_type": "code",
   "execution_count": null,
   "metadata": {},
   "outputs": [],
   "source": [
    "# #############################################################\n",
    "# ##Place pins in left and right margins\n",
    "# editPin -side Top -pinWidth 0.1 -pinDepth 0.52 -layer 3 -spreadType center -spacing 1  -pin {{clk} {rst} {update_weights}}\n",
    "# editPin -side Left -pinWidth 0.1 -pinDepth 0.52 -layer 3 -spreadType center -spacing 1 -pin {{Xi[119]} {Xi[118]} {Xi[117]} {Xi[116]} {Xi[115]} {Xi[114]} {Xi[113]} {Xi[112]} {Xi[111]} {Xi[110]} {Xi[109]} {Xi[108]} {Xi[107]} {Xi[106]} {Xi[105]} {Xi[104]} {Xi[103]} {Xi[102]} {Xi[101]} {Xi[100]} {Xi[99]} {Xi[98]} {Xi[97]} {Xi[96]} {Xi[95]} {Xi[94]} {Xi[93]} {Xi[92]} {Xi[91]} {Xi[90]} {Xi[89]} {Xi[88]} {Xi[87]} {Xi[86]} {Xi[85]} {Xi[84]} {Xi[83]} {Xi[82]} {Xi[81]} {Xi[80]} {Xi[79]} {Xi[78]} {Xi[77]} {Xi[76]} {Xi[75]} {Xi[74]} {Xi[73]} {Xi[72]} {Xi[71]} {Xi[70]} {Xi[69]} {Xi[68]} {Xi[67]} {Xi[66]} {Xi[65]} {Xi[64]} {Xi[63]} {Xi[62]} {Xi[61]} {Xi[60]} {Xi[59]} {Xi[58]} {Xi[57]} {Xi[56]} {Xi[55]} {Xi[54]} {Xi[53]} {Xi[52]} {Xi[51]} {Xi[50]} {Xi[49]} {Xi[48]} {Xi[47]} {Xi[46]} {Xi[45]} {Xi[44]} {Xi[43]} {Xi[42]} {Xi[41]} {Xi[40]} {Xi[39]} {Xi[38]} {Xi[37]} {Xi[36]} {Xi[35]} {Xi[34]} {Xi[33]} {Xi[32]} {Xi[31]} {Xi[30]} {Xi[29]} {Xi[28]} {Xi[27]} {Xi[26]} {Xi[25]} {Xi[24]} {Xi[23]} {Xi[22]} {Xi[21]} {Xi[20]} {Xi[19]} {Xi[18]} {Xi[17]} {Xi[16]} {Xi[15]} {Xi[14]} {Xi[13]} {Xi[12]} {Xi[11]} {Xi[10]} {Xi[9]} {Xi[8]} {Xi[7]} {Xi[6]} {Xi[5]} {Xi[4]} {Xi[3]} {Xi[2]} {Xi[1]} {Xi[0]} }\n",
    "# editPin -side Right -pinWidth 0.1 -pinDepth 0.52 -layer 3 -spreadType center -spacing 1  -pin {{c0_n0_Win[7]} {c0_n0_Win[6]} {c0_n0_Win[5]} {c0_n0_Win[4]} {c0_n0_Win[3]} {c0_n0_Win[2]} {c0_n0_Win[1]} {c0_n0_Win[0]}  {c0_n1_Win[7]} {c0_n1_Win[6]} {c0_n1_Win[5]} {c0_n1_Win[4]} {c0_n1_Win[3]} {c0_n1_Win[2]} {c0_n1_Win[1]} {c0_n1_Win[0]}  {c0_n2_Win[7]} {c0_n2_Win[6]} {c0_n2_Win[5]} {c0_n2_Win[4]} {c0_n2_Win[3]} {c0_n2_Win[2]} {c0_n2_Win[1]} {c0_n2_Win[0]}  {c3_n0_y[7]} {c3_n0_y[6]} {c3_n0_y[5]} {c3_n0_y[4]} {c3_n0_y[3]} {c3_n0_y[2]} {c3_n0_y[1]} {c3_n0_y[0]}  {c3_n1_y[7]} {c3_n1_y[6]} {c3_n1_y[5]} {c3_n1_y[4]} {c3_n1_y[3]} {c3_n1_y[2]} {c3_n1_y[1]} {c3_n1_y[0]} }\n",
    "\n",
    "# ## Add Substrate and NWELL contacts\n",
    "# addWellTap -cell NWSX -prefix XTAP -cellInterval 30 -checkerBoard\n",
    "\n",
    "# ##Place the design\n",
    "# setPlaceMode -fp false\n",
    "# placeDesign -prePlaceOpt\n",
    "# setDrawView place\n",
    "\n",
    "# ##Initial route of the design\n",
    "# trialRoute -maxRouteLayer 6\n"
   ]
  }
 ],
 "metadata": {
  "kernelspec": {
   "display_name": "Python 3",
   "language": "python",
   "name": "python3"
  },
  "language_info": {
   "codemirror_mode": {
    "name": "ipython",
    "version": 3
   },
   "file_extension": ".py",
   "mimetype": "text/x-python",
   "name": "python",
   "nbconvert_exporter": "python",
   "pygments_lexer": "ipython3",
   "version": "3.9.5"
  },
  "orig_nbformat": 4,
  "vscode": {
   "interpreter": {
    "hash": "3b7d32af1e689683b59f84af5e00ff8511e054604b74fc1830ce1b819250cf76"
   }
  }
 },
 "nbformat": 4,
 "nbformat_minor": 2
}
